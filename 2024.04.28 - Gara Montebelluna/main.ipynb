{
 "cells": [
  {
   "cell_type": "code",
   "execution_count": 3,
   "metadata": {},
   "outputs": [],
   "source": [
    "percorso_base = '.'\n",
    "fasce = ['2018-2017', '2016-2015', '2014-2013', '2012-2011', '2010-2009']\n",
    "categorie = ['PANDA', 'GIRAFFA', 'ELEFANTE', 'ZEBRE', 'SCIMMIA', 'TIGRE MASCHILE', 'TIGRE FEMMINILE', 'LEONE MASCHILE', 'LEONE FEMMINILE']\n",
    "cinture_per_categorie = {\n",
    "  'PANDA': 'Bianca',\n",
    "  'GIRAFFA': 'Bianca-Gialla / Gialla',\n",
    "  'ELEFANTE': 'Gialla-Arancio / Arancio',\n",
    "  'ZEBRE': 'Arancio-Verde / Verde',\n",
    "  'SCIMMIA': 'Verde-Blu / Blu',\n",
    "  'TIGRE MASCHILE': 'Blu-Marrone / Marrone',\n",
    "  'TIGRE FEMMINILE': 'Blu-Marrone / Marrone',\n",
    "  'LEONE MASCHILE': 'Marrone-Nera / Nera',\n",
    "  'LEONE FEMMINILE': 'Marrone-Nera / Nera'\n",
    "}\n",
    "nomi_kata = {\n",
    "  ('PANDA', 1): 'TAIKYOKU SHODAN',\n",
    "  ('PANDA', 2): 'TAIKYOKU SHODAN',\n",
    "  ('PANDA', 3): 'TAIKYOKU SHODAN',\n",
    "  ('GIRAFFA', 1): 'TAIKYOKU SHODAN',\n",
    "  ('GIRAFFA', 2): 'TAIKYOKU SHODAN',\n",
    "  ('GIRAFFA', 3): 'HEIAN SHODAN',\n",
    "  ('ELEFANTE', 1): 'HEIAN SHODAN',\n",
    "  ('ELEFANTE', 2): 'HEIAN SHODAN',\n",
    "  ('ELEFANTE', 3): 'HEIAN NIDAN', \n",
    "  ('ZEBRE', 1): 'HEIAN SHODAN',\n",
    "  ('ZEBRE', 2): 'HEIAN NIDAN',\n",
    "  ('ZEBRE', 3): 'HEIAN SANDAN', \n",
    "  ('SCIMMIA', 1): 'HEIAN NIDAN',\n",
    "  ('SCIMMIA', 2): 'HEIAN SANDAN',\n",
    "  ('SCIMMIA', 3): 'HEIAN YONDAN', \n",
    "  ('TIGRE MASCHILE', 1): 'HEIAN SANDAN',\n",
    "  ('TIGRE MASCHILE', 2): 'HEIAN YONDAN',\n",
    "  ('TIGRE MASCHILE', 3): 'HEIAN GODAN', \n",
    "  ('TIGRE FEMMINILE', 1): 'HEIAN SANDAN',\n",
    "  ('TIGRE FEMMINILE', 2): 'HEIAN YONDAN',\n",
    "  ('TIGRE FEMMINILE', 3): 'HEIAN GODAN', \n",
    "  ('LEONE MASCHILE', 1): 'HEIAN GODAN',\n",
    "  ('LEONE MASCHILE', 2): 'TEKKI SHODAN',\n",
    "  ('LEONE MASCHILE', 3): 'BASSAI DAI', \n",
    "  ('LEONE FEMMINILE', 1): 'HEIAN GODAN',\n",
    "  ('LEONE FEMMINILE', 2): 'TEKKI SHODAN',\n",
    "  ('LEONE FEMMINILE', 3): 'BASSAI DAI'\n",
    "}\n",
    "\n",
    "import pandas as pd\n",
    "import xlwings as xw\n",
    "import os\n",
    "import shutil\n",
    "import random\n",
    "\n",
    "pd.set_option(\"display.max_columns\", None)\n",
    "pd.set_option(\"display.max_rows\", None)\n",
    "pd.set_option('display.max_colwidth', None)\n",
    "\n",
    "# Carica il file con tutti gli iscritti\n",
    "singoli = pd.read_parquet('Importati/singoli.parquet')\n",
    "squadra_A = pd.read_parquet('Importati/squadra_A.parquet')\n",
    "squadra_B = pd.read_parquet('Importati/squadra_B.parquet')\n",
    "\n",
    "# Converte tutto in maiuscolo\n",
    "singoli = singoli.map(lambda x: x.upper() if isinstance(x, str) else x)\n",
    "\n",
    "# Suddivide le marroni e nere in categorie distinte in base al sesso\n",
    "singoli.loc[(singoli['CATEGORIA'] == 'TIGRE') & (singoli['SESSO'] == 'MASCHIO'), 'CATEGORIA'] = 'TIGRE MASCHILE'\n",
    "singoli.loc[(singoli['CATEGORIA'] == 'TIGRE') & (singoli['SESSO'] == 'FEMMINA'), 'CATEGORIA'] = 'TIGRE FEMMINILE'\n",
    "singoli.loc[(singoli['CATEGORIA'] == 'LEONE') & (singoli['SESSO'] == 'MASCHIO'), 'CATEGORIA'] = 'LEONE MASCHILE'\n",
    "singoli.loc[(singoli['CATEGORIA'] == 'LEONE') & (singoli['SESSO'] == 'FEMMINA'), 'CATEGORIA'] = 'LEONE FEMMINILE'\n",
    "\n",
    "# Crea la colonna per fascia d'età\n",
    "singoli['FASCIA'] = ''\n",
    "singoli.loc[(singoli['ANNO NASCITA'] == 2018) | (singoli['ANNO NASCITA'] == 2017), 'FASCIA'] = '2018-2017'\n",
    "singoli.loc[(singoli['ANNO NASCITA'] == 2016) | (singoli['ANNO NASCITA'] == 2015), 'FASCIA'] = '2016-2015'\n",
    "singoli.loc[(singoli['ANNO NASCITA'] == 2014) | (singoli['ANNO NASCITA'] == 2013), 'FASCIA'] = '2014-2013'\n",
    "singoli.loc[(singoli['ANNO NASCITA'] == 2012) | (singoli['ANNO NASCITA'] == 2011), 'FASCIA'] = '2012-2011'\n",
    "singoli.loc[(singoli['ANNO NASCITA'] == 2010) | (singoli['ANNO NASCITA'] == 2009), 'FASCIA'] = '2010-2009'"
   ]
  },
  {
   "cell_type": "code",
   "execution_count": 4,
   "metadata": {},
   "outputs": [
    {
     "data": {
      "text/plain": [
       "array(['GIALLA/ARANCIO', 'GIALLA', 'ARANCIO/VERDE', 'BIANCA/GIALLA',\n",
       "       'MARRONE', 'VERDE', 'BIANCA', 'BLU/MARRONE', 'ARANCIO', 'BLU',\n",
       "       'VERDE/BLU', 'MARRONE/NERA', 'NERA'], dtype=object)"
      ]
     },
     "execution_count": 4,
     "metadata": {},
     "output_type": "execute_result"
    }
   ],
   "source": [
    "singoli['CINTURA'].unique()"
   ]
  },
  {
   "cell_type": "code",
   "execution_count": 5,
   "metadata": {},
   "outputs": [
    {
     "data": {
      "text/plain": [
       "array(['DOJO SHOTOKAN TREVISO', 'KARATE SACILE',\n",
       "       'KARATE TREVIGNANO E MONTEBELLUNA', 'KI KAI DOJO CARBONERA',\n",
       "       'KORIYAMA ASD', 'REN BU KAN MOGLIANO', 'REN BU KAN SPRESIANO',\n",
       "       'REN BU KAN TREVISO', 'SCUOLA KARATE BADOERE',\n",
       "       'SCUOLA KARATE CASTELFRANCO VENETO',\n",
       "       'SCUOLA KARATE GALLIERA VENETA', 'SCUOLA KARATE MIGNAGOLA',\n",
       "       'SCUOLA KARATE RESANA', 'SHINGHITAI KARATE-DO', 'TSKS'],\n",
       "      dtype=object)"
      ]
     },
     "execution_count": 5,
     "metadata": {},
     "output_type": "execute_result"
    }
   ],
   "source": [
    "singoli['SOCIETA'].unique()"
   ]
  },
  {
   "cell_type": "code",
   "execution_count": 6,
   "metadata": {},
   "outputs": [
    {
     "data": {
      "text/plain": [
       "array(['2016-2015', '2014-2013', '2018-2017', '2010-2009', '2012-2011'],\n",
       "      dtype=object)"
      ]
     },
     "execution_count": 6,
     "metadata": {},
     "output_type": "execute_result"
    }
   ],
   "source": [
    "singoli['FASCIA'].unique()"
   ]
  },
  {
   "cell_type": "code",
   "execution_count": 7,
   "metadata": {},
   "outputs": [
    {
     "data": {
      "text/plain": [
       "array(['ELEFANTE', 'GIRAFFA', 'ZEBRE', 'TIGRE MASCHILE', 'PANDA',\n",
       "       'TIGRE FEMMINILE', 'SCIMMIA', 'LEONE MASCHILE', 'LEONE FEMMINILE'],\n",
       "      dtype=object)"
      ]
     },
     "execution_count": 7,
     "metadata": {},
     "output_type": "execute_result"
    }
   ],
   "source": [
    "singoli['CATEGORIA'].unique()"
   ]
  },
  {
   "cell_type": "code",
   "execution_count": 8,
   "metadata": {},
   "outputs": [
    {
     "name": "stdout",
     "output_type": "stream",
     "text": [
      "<class 'pandas.core.frame.DataFrame'>\n",
      "RangeIndex: 268 entries, 1 to 268\n",
      "Data columns (total 9 columns):\n",
      " #   Column              Non-Null Count  Dtype \n",
      "---  ------              --------------  ----- \n",
      " 0   N_ISCRITTO_SOCIETA  268 non-null    int64 \n",
      " 1   SOCIETA             268 non-null    object\n",
      " 2   COGNOME             268 non-null    object\n",
      " 3   NOME                268 non-null    object\n",
      " 4   SESSO               268 non-null    object\n",
      " 5   ANNO NASCITA        268 non-null    int64 \n",
      " 6   CINTURA             268 non-null    object\n",
      " 7   CATEGORIA           268 non-null    object\n",
      " 8   FASCIA              268 non-null    object\n",
      "dtypes: int64(2), object(7)\n",
      "memory usage: 19.0+ KB\n"
     ]
    }
   ],
   "source": [
    "singoli.info()"
   ]
  },
  {
   "cell_type": "code",
   "execution_count": 9,
   "metadata": {},
   "outputs": [
    {
     "data": {
      "text/plain": [
       "CATEGORIA\n",
       "ELEFANTE           78\n",
       "GIRAFFA            79\n",
       "LEONE FEMMINILE     6\n",
       "LEONE MASCHILE      5\n",
       "PANDA              20\n",
       "SCIMMIA            13\n",
       "TIGRE FEMMINILE    12\n",
       "TIGRE MASCHILE     15\n",
       "ZEBRE              40\n",
       "Name: COGNOME, dtype: int64"
      ]
     },
     "execution_count": 9,
     "metadata": {},
     "output_type": "execute_result"
    }
   ],
   "source": [
    "# Totale iscritti per categoria\n",
    "totale_per_categoria = singoli.groupby('CATEGORIA')['COGNOME'].count()\n",
    "totale_per_categoria\n"
   ]
  },
  {
   "cell_type": "code",
   "execution_count": 10,
   "metadata": {},
   "outputs": [
    {
     "data": {
      "text/plain": [
       "FASCIA\n",
       "2010-2009    58\n",
       "2012-2011    52\n",
       "2014-2013    71\n",
       "2016-2015    67\n",
       "2018-2017    20\n",
       "Name: COGNOME, dtype: int64"
      ]
     },
     "execution_count": 10,
     "metadata": {},
     "output_type": "execute_result"
    }
   ],
   "source": [
    "# Totale iscritti per fascia\n",
    "totale_per_fascia = singoli.groupby('FASCIA')['COGNOME'].count()\n",
    "totale_per_fascia"
   ]
  },
  {
   "cell_type": "code",
   "execution_count": 11,
   "metadata": {},
   "outputs": [
    {
     "data": {
      "text/plain": [
       "CATEGORIA        FASCIA   \n",
       "ELEFANTE         2010-2009    14\n",
       "                 2012-2011    16\n",
       "                 2014-2013    24\n",
       "                 2016-2015    20\n",
       "                 2018-2017     4\n",
       "GIRAFFA          2010-2009     7\n",
       "                 2012-2011     9\n",
       "                 2014-2013    21\n",
       "                 2016-2015    30\n",
       "                 2018-2017    12\n",
       "LEONE FEMMINILE  2010-2009     6\n",
       "LEONE MASCHILE   2010-2009     5\n",
       "PANDA            2010-2009     3\n",
       "                 2012-2011     1\n",
       "                 2014-2013     6\n",
       "                 2016-2015     6\n",
       "                 2018-2017     4\n",
       "SCIMMIA          2010-2009     1\n",
       "                 2012-2011     5\n",
       "                 2014-2013     6\n",
       "                 2016-2015     1\n",
       "TIGRE FEMMINILE  2010-2009     8\n",
       "                 2012-2011     3\n",
       "                 2014-2013     1\n",
       "TIGRE MASCHILE   2010-2009     8\n",
       "                 2012-2011     6\n",
       "                 2014-2013     1\n",
       "ZEBRE            2010-2009     6\n",
       "                 2012-2011    12\n",
       "                 2014-2013    12\n",
       "                 2016-2015    10\n",
       "Name: N_ISCRITTO_SOCIETA, dtype: int64"
      ]
     },
     "execution_count": 11,
     "metadata": {},
     "output_type": "execute_result"
    }
   ],
   "source": [
    "totali = singoli.groupby(['CATEGORIA', 'FASCIA'])['N_ISCRITTO_SOCIETA'].count()\n",
    "totali"
   ]
  },
  {
   "cell_type": "code",
   "execution_count": 12,
   "metadata": {},
   "outputs": [],
   "source": [
    "# Prepara le cartelle che conterranno i tabelloni generati. Se esistenti vengono cancellate e ricreate\n",
    "def ricrea_cartella_tabelloni():\n",
    "    if os.path.exists(f'{percorso_base}/Tabelloni generati singoli'):\n",
    "        shutil.rmtree(f'{percorso_base}/Tabelloni generati singoli')\n",
    "    os.makedirs(f'{percorso_base}/Tabelloni generati singoli')   \n",
    "    os.makedirs(f'{percorso_base}/Tabelloni generati singoli/PDF')   \n",
    "    os.makedirs(f'{percorso_base}/Tabelloni generati singoli/Excel')   \n",
    "    os.makedirs(f'{percorso_base}/Tabelloni generati singoli/parquet')  \n",
    "\n",
    "# Restituisce gli atleti che partecipano a una determinata fascia e categoria. Se gli atleti sono dispari restituisce anche l'atleta appartenente \n",
    "# alla società con il maggior numero di iscritti per quella fascia/categoria\n",
    "def iscritti_per_tabellone(df, fascia, categoria, tipo_tabellone):\n",
    "    iscritti = df[(df['FASCIA'] == fascia) & (df['CATEGORIA'] == categoria)].copy()\n",
    "    n_iscritti = len(iscritti)\n",
    "    atleta_singolo = None\n",
    "    if tipo_tabellone == 'BANDIERINE':\n",
    "        if n_iscritti % 2 == 1:\n",
    "            # Se sono DISPARI, sceglie l'atleta che non farà il primo incontro fra quelli della società col maggior numero di atleti iscritti\n",
    "            soc_maggiori_iscritti = iscritti.groupby(['SOCIETA'])[['SOCIETA']].value_counts().idxmax()\n",
    "            id_atleta_singolo = iscritti[iscritti['SOCIETA'] == soc_maggiori_iscritti].index[0]\n",
    "            atleta_singolo = iscritti.loc[id_atleta_singolo]\n",
    "            iscritti.drop(id_atleta_singolo, inplace=True)\n",
    "\n",
    "        iscritti['ISCRITTI_PER_SOCIETA'] = iscritti.groupby('SOCIETA')['SOCIETA'].transform('count')\n",
    "        iscritti = iscritti.sort_values(by='ISCRITTI_PER_SOCIETA', ascending=False)\n",
    "    \n",
    "    return iscritti, atleta_singolo\n",
    "\n",
    "# Modifiche manuali ai tabelloni: scambia di posto due iscritti in un tabellone\n",
    "def scambia_iscritti(tab, n_incontro_1, cintura_r_b_1, n_incontro_2, cintura_r_b_2):\n",
    "    # Crea maschere per le righe da scambiare\n",
    "    mask1 = (tab['N_INCONTRO'] == n_incontro_1) & (tab['CINTURA'] == cintura_r_b_1)\n",
    "    mask2 = (tab['N_INCONTRO'] == n_incontro_2) & (tab['CINTURA'] == cintura_r_b_2)\n",
    "\n",
    "    # Verifica se entrambe le righe esistono\n",
    "    if mask1.any() and mask2.any():\n",
    "        # Copia temporaneamente una delle righe\n",
    "        riga_temp = tab.loc[mask1, ['SOCIETA', 'COGNOME', 'NOME']].copy()\n",
    "\n",
    "        # Scambia le righe\n",
    "        tab.loc[mask1, ['SOCIETA', 'COGNOME', 'NOME']] = tab.loc[mask2, ['SOCIETA', 'COGNOME', 'NOME']].values\n",
    "        tab.loc[mask2, ['SOCIETA', 'COGNOME', 'NOME']] = riga_temp.values\n",
    "\n",
    "    return tab\n",
    "\n",
    "# Modifiche manuali ai tabelloni: elimina un iscritto da un tabellone\n",
    "def elimina_iscritto(tab, n_incontro, cintura_r_b):\n",
    "    # Crea maschera per trova l'atleta\n",
    "    mask = (tab['N_INCONTRO'] == n_incontro) & (tab['CINTURA'] == cintura_r_b)  \n",
    "\n",
    "    # Verifica se la riga esiste\n",
    "    if mask.any():\n",
    "        tab = tab.drop(tab[mask].index)\n",
    "    \n",
    "    return tab\n",
    "\n",
    "# Carica un tabellone dalla raccolta di file parquet\n",
    "def carica_tabellone(n_tab):\n",
    "    nome_file = None\n",
    "    tab = None\n",
    "    for file in os.listdir(f'{percorso_base}/Tabelloni generati/parquet'):\n",
    "        if file.startswith(str(n_tab).zfill(2)):\n",
    "            nome_file = file\n",
    "            break\n",
    "    if nome_file:\n",
    "        path = f'{percorso_base}/Tabelloni generati/parquet/{nome_file}'\n",
    "        tab = pd.read_parquet(path)\n",
    "    return tab\n",
    "\n",
    "# Crea il tabellone in excel e lo salva in pdf e parquet\n",
    "def salva_tabellone_punteggio(tab, n_tab, n_prova):\n",
    "    fascia = tab['FASCIA'].iloc[0]\n",
    "    categoria = tab['CATEGORIA'].iloc[0]\n",
    "    tab_vuoto = f'{percorso_base}/Tabellone vuoto.xlsx'\n",
    "    foglio = 'TAB.SINGOLI'\n",
    "    nome_file = f'{str(n_tab).zfill(2)}) FASCIA {fascia} - {categoria} - Prova n.{n_prova}'\n",
    "    riga_inizio_tabella = 8\n",
    "    riga_fine_tabella = 77\n",
    "    \n",
    "    app = xw.App(add_book=False, visible=False)\n",
    "    wb = app.books.open(tab_vuoto)\n",
    "    sheet = wb.sheets[foglio]  \n",
    "    sheet['C1'].value = fascia\n",
    "    sheet['E1'].value = f'{categoria} ({cinture_per_categorie[categoria]})'\n",
    "    sheet[f'A{riga_inizio_tabella}'].value = tab.drop(columns=['N_PROVA', 'FASCIA', 'CATEGORIA']).values\n",
    "    sheet['K1'].value = n_tab\n",
    "    sheet['C3'].value = n_prova\n",
    "    \n",
    "    # Elimina le righe vuote alla fine dopo avere inserito gli atleti\n",
    "    prima_riga_vuota = riga_inizio_tabella\n",
    "    for riga in range(riga_inizio_tabella, riga_fine_tabella):\n",
    "        if (not sheet[f'D{riga}'].value) and (sheet[f'B{riga}'].value == 'R'):\n",
    "            prima_riga_vuota = riga\n",
    "            break\n",
    "    rg = sheet.range(f'{prima_riga_vuota}:{riga_fine_tabella}')\n",
    "    rg.delete(shift='up')\n",
    "    rg = sheet.range(f'{prima_riga_vuota-1}:{prima_riga_vuota-1}')\n",
    "\n",
    "    sheet.to_pdf(f'{percorso_base}/Tabelloni generati singoli/PDF/{nome_file}.pdf')\n",
    "    wb.save(f'{percorso_base}/Tabelloni generati singoli/Excel/{nome_file}.xlsx')\n",
    "    tab.to_parquet(f'{percorso_base}/Tabelloni generati singoli/parquet/{nome_file}.parquet')\n",
    "    wb.close()\n",
    "    app.quit()\n",
    "\n",
    "def genera_tabelloni_punteggio(df_iscritti):\n",
    "    ricrea_cartella_tabelloni() # Crea la struttura delle cartelle per i tabelloni generati\n",
    "    tot_tabelloni = len(fasce) * len(categorie)\n",
    "    n_tab = 1 # Variabile che serve solo durante la generazione per vedere quale tabellone sta elaborando, anche se poi non verrà salvato perché vuoto\n",
    "    n_tab_salvati = 1 # Variabile che corrisponde al numero di tabellone \n",
    "    for fascia in fasce:\n",
    "        for categoria in categorie:\n",
    "            print(f'Tabellone n.{n_tab} di {tot_tabelloni}: Fascia: {fascia}, Categoria: {categoria}')\n",
    "            iscritti, atleta_singolo = iscritti_per_tabellone(df_iscritti, fascia, categoria, tipo_tabellone='PUNTEGGIO')\n",
    "            tot_incontri = len(iscritti) \n",
    "            tab = pd.DataFrame(columns=['N_INCONTRO', 'N_PROVA', 'CINTURA_INCONTRO', 'SOCIETA', 'COGNOME', 'NOME', 'NOME_KATA', 'PUNTEGGIO_1', 'PUNTEGGIO_2', 'PUNTEGGIO_3', 'PUNTEGGIO_4', 'PUNTEGGIO_5', 'PUNTEGGIO_TOT', 'FASCIA', 'CATEGORIA', 'ANNO NASCITA', 'CINTURA'])\n",
    "            n_incontro = 0\n",
    "            if (not iscritti.empty):\n",
    "                iscritti.sample(frac=1).sample(frac=1).sample(frac=1).sample(frac=1).sample(frac=1)\n",
    "                for n_incontro in range(0, tot_incontri):\n",
    "                    atleta1 = iscritti.iloc[n_incontro]                       \n",
    "                    # Aggiunge l'atleta al tabellone \n",
    "                    for n_prova in range(1,4):\n",
    "                        tab.loc[len(tab)] = [n_incontro+1, n_prova, '-', atleta1['SOCIETA'], atleta1['COGNOME'], atleta1['NOME'], nomi_kata[(categoria, n_prova)], '', '', '', '', '', '', fascia, categoria, atleta1['ANNO NASCITA'], atleta1['CINTURA']]\n",
    "                for n_prova in range(1,4):\n",
    "                    tab_prova = tab[tab['N_PROVA'] == n_prova].copy()\n",
    "                    salva_tabellone_punteggio(tab_prova, n_tab_salvati, n_prova)\n",
    "                        \n",
    "                n_tab_salvati += 1\n",
    "            n_tab += 1\n"
   ]
  },
  {
   "cell_type": "markdown",
   "metadata": {},
   "source": [
    "### GENERA TABELLONI"
   ]
  },
  {
   "cell_type": "code",
   "execution_count": 13,
   "metadata": {},
   "outputs": [
    {
     "name": "stdout",
     "output_type": "stream",
     "text": [
      "Tabellone n.1 di 45: Fascia: 2018-2017, Categoria: PANDA\n",
      "Tabellone n.2 di 45: Fascia: 2018-2017, Categoria: GIRAFFA\n",
      "Tabellone n.3 di 45: Fascia: 2018-2017, Categoria: ELEFANTE\n",
      "Tabellone n.4 di 45: Fascia: 2018-2017, Categoria: ZEBRE\n",
      "Tabellone n.5 di 45: Fascia: 2018-2017, Categoria: SCIMMIA\n",
      "Tabellone n.6 di 45: Fascia: 2018-2017, Categoria: TIGRE MASCHILE\n",
      "Tabellone n.7 di 45: Fascia: 2018-2017, Categoria: TIGRE FEMMINILE\n",
      "Tabellone n.8 di 45: Fascia: 2018-2017, Categoria: LEONE MASCHILE\n",
      "Tabellone n.9 di 45: Fascia: 2018-2017, Categoria: LEONE FEMMINILE\n",
      "Tabellone n.10 di 45: Fascia: 2016-2015, Categoria: PANDA\n",
      "Tabellone n.11 di 45: Fascia: 2016-2015, Categoria: GIRAFFA\n",
      "Tabellone n.12 di 45: Fascia: 2016-2015, Categoria: ELEFANTE\n",
      "Tabellone n.13 di 45: Fascia: 2016-2015, Categoria: ZEBRE\n",
      "Tabellone n.14 di 45: Fascia: 2016-2015, Categoria: SCIMMIA\n",
      "Tabellone n.15 di 45: Fascia: 2016-2015, Categoria: TIGRE MASCHILE\n",
      "Tabellone n.16 di 45: Fascia: 2016-2015, Categoria: TIGRE FEMMINILE\n",
      "Tabellone n.17 di 45: Fascia: 2016-2015, Categoria: LEONE MASCHILE\n",
      "Tabellone n.18 di 45: Fascia: 2016-2015, Categoria: LEONE FEMMINILE\n",
      "Tabellone n.19 di 45: Fascia: 2014-2013, Categoria: PANDA\n",
      "Tabellone n.20 di 45: Fascia: 2014-2013, Categoria: GIRAFFA\n",
      "Tabellone n.21 di 45: Fascia: 2014-2013, Categoria: ELEFANTE\n",
      "Tabellone n.22 di 45: Fascia: 2014-2013, Categoria: ZEBRE\n",
      "Tabellone n.23 di 45: Fascia: 2014-2013, Categoria: SCIMMIA\n",
      "Tabellone n.24 di 45: Fascia: 2014-2013, Categoria: TIGRE MASCHILE\n",
      "Tabellone n.25 di 45: Fascia: 2014-2013, Categoria: TIGRE FEMMINILE\n",
      "Tabellone n.26 di 45: Fascia: 2014-2013, Categoria: LEONE MASCHILE\n",
      "Tabellone n.27 di 45: Fascia: 2014-2013, Categoria: LEONE FEMMINILE\n",
      "Tabellone n.28 di 45: Fascia: 2012-2011, Categoria: PANDA\n",
      "Tabellone n.29 di 45: Fascia: 2012-2011, Categoria: GIRAFFA\n",
      "Tabellone n.30 di 45: Fascia: 2012-2011, Categoria: ELEFANTE\n",
      "Tabellone n.31 di 45: Fascia: 2012-2011, Categoria: ZEBRE\n",
      "Tabellone n.32 di 45: Fascia: 2012-2011, Categoria: SCIMMIA\n",
      "Tabellone n.33 di 45: Fascia: 2012-2011, Categoria: TIGRE MASCHILE\n",
      "Tabellone n.34 di 45: Fascia: 2012-2011, Categoria: TIGRE FEMMINILE\n",
      "Tabellone n.35 di 45: Fascia: 2012-2011, Categoria: LEONE MASCHILE\n",
      "Tabellone n.36 di 45: Fascia: 2012-2011, Categoria: LEONE FEMMINILE\n",
      "Tabellone n.37 di 45: Fascia: 2010-2009, Categoria: PANDA\n",
      "Tabellone n.38 di 45: Fascia: 2010-2009, Categoria: GIRAFFA\n",
      "Tabellone n.39 di 45: Fascia: 2010-2009, Categoria: ELEFANTE\n",
      "Tabellone n.40 di 45: Fascia: 2010-2009, Categoria: ZEBRE\n",
      "Tabellone n.41 di 45: Fascia: 2010-2009, Categoria: SCIMMIA\n",
      "Tabellone n.42 di 45: Fascia: 2010-2009, Categoria: TIGRE MASCHILE\n",
      "Tabellone n.43 di 45: Fascia: 2010-2009, Categoria: TIGRE FEMMINILE\n",
      "Tabellone n.44 di 45: Fascia: 2010-2009, Categoria: LEONE MASCHILE\n",
      "Tabellone n.45 di 45: Fascia: 2010-2009, Categoria: LEONE FEMMINILE\n"
     ]
    }
   ],
   "source": [
    "genera_tabelloni_punteggio(singoli)"
   ]
  },
  {
   "cell_type": "markdown",
   "metadata": {},
   "source": [
    "### Modifiche manuali"
   ]
  },
  {
   "cell_type": "markdown",
   "metadata": {},
   "source": [
    "n_tabellone = 1\n",
    "\n",
    "tab = carica_tabellone(n_tabellone)\n",
    "tab_prima = tab.copy()\n",
    "\n",
    "#tab = scambia_iscritti(tab, 2, 'B', 3, 'R')\n",
    "tab = elimina_iscritto(tab, 3, 'R')\n",
    "\n",
    "salva_tabellone(tab, n_tabellone)\n",
    "tab_dopo = tab.copy()"
   ]
  },
  {
   "cell_type": "markdown",
   "metadata": {},
   "source": [
    "##### PRIMA"
   ]
  },
  {
   "cell_type": "markdown",
   "metadata": {},
   "source": [
    "tab_prima"
   ]
  },
  {
   "cell_type": "markdown",
   "metadata": {},
   "source": [
    "##### DOPO"
   ]
  },
  {
   "cell_type": "markdown",
   "metadata": {},
   "source": [
    "tab_dopo"
   ]
  }
 ],
 "metadata": {
  "kernelspec": {
   "display_name": "Python 3",
   "language": "python",
   "name": "python3"
  },
  "language_info": {
   "codemirror_mode": {
    "name": "ipython",
    "version": 3
   },
   "file_extension": ".py",
   "mimetype": "text/x-python",
   "name": "python",
   "nbconvert_exporter": "python",
   "pygments_lexer": "ipython3",
   "version": "3.11.9"
  }
 },
 "nbformat": 4,
 "nbformat_minor": 2
}
